{
  "nbformat": 4,
  "nbformat_minor": 0,
  "metadata": {
    "colab": {
      "name": "suaLoiChinhTa.ipynb",
      "provenance": [],
      "collapsed_sections": [],
      "include_colab_link": true
    },
    "kernelspec": {
      "name": "python3",
      "display_name": "Python 3"
    },
    "accelerator": "TPU"
  },
  "cells": [
    {
      "cell_type": "markdown",
      "metadata": {
        "id": "view-in-github",
        "colab_type": "text"
      },
      "source": [
        "<a href=\"https://colab.research.google.com/github/dungnguyendinh1052000/SpellCheckVietnamese/blob/master/suaLoiChinhTa.ipynb\" target=\"_parent\"><img src=\"https://colab.research.google.com/assets/colab-badge.svg\" alt=\"Open In Colab\"/></a>"
      ]
    },
    {
      "cell_type": "markdown",
      "metadata": {
        "id": "NtuLEVQDfRCW",
        "colab_type": "text"
      },
      "source": [
        "Notes:\n",
        "- Dự định sẽ dùng word embedding (hoặc sử dụng CBOW) của fasttext tách thành từng window để train.\n",
        "-  Sau đó đưa từ sai chính tả và cả cửa sổ gồm n từ trước và sau nó đưa vào mạng để đưa ra vector của từ đó.\n",
        "-  Dự đoán từ gần nó có trong từ điểm để sửa lỗi"
      ]
    },
    {
      "cell_type": "code",
      "metadata": {
        "id": "BV1_EpqhzP4W",
        "colab_type": "code",
        "colab": {}
      },
      "source": [
        "#!/usr/bin/python\n",
        "# -*- coding: utf8 -*-\n",
        "from google.colab import drive\n",
        "drive.mount('/content/gdrive')\n",
        "import nltk\n",
        "import re\n",
        "nltk.download('punkt')\n",
        "nltk.download('stopwords')"
      ],
      "execution_count": 0,
      "outputs": []
    },
    {
      "cell_type": "code",
      "metadata": {
        "id": "EFODxD1XTwDr",
        "colab_type": "code",
        "colab": {}
      },
      "source": [
        "def checkWords(word):  #  Kiểm tra từ đấy có lỗi không, nếu lỗi trả về False, đầu vào là từ cần kiểm tra\n",
        "  if word.lower() not in words:\n",
        "    if word.isalpha() == True:  #  Kiểm tra là từ có chứa số hay không\n",
        "      k = 0 \n",
        "      for index in range(len(word)):\n",
        "        if (64<ord(word[index])<91 or ord(word[index]) == 272):   #  Nếu tất cả các ký tự trong từ đều viết hoa \n",
        "          k += 1                                                  #  thì đó là từ viết tắt -> đúng chính tả\n",
        "      if (k != len(word)):\n",
        "        return False\n",
        "    else :\n",
        "      return False\n",
        "  return True"
      ],
      "execution_count": 0,
      "outputs": []
    },
    {
      "cell_type": "code",
      "metadata": {
        "id": "RpSJud0P0E0f",
        "colab_type": "code",
        "colab": {}
      },
      "source": [
        "data = open(\"/content/gdrive/My Drive/Dữ liệu/news_data_with_error.txt\",\"r\") #  Share dữ liệu từ bộ dữ liệu toán tin về drive của mình\n",
        "dictionary = open(\"/content/gdrive/My Drive/words.txt\")           #  để dùng drive của mình. Còn bộ các từ đơn thì úp lên drive \n",
        "dictionary = dictionary.read().lower().split(\"\\n\")\n",
        "line_1 = data.readline()\n",
        "line_1 =re.split(r'\\W+', line_1)  \n",
        "for indexWord in range(len(line_1)):\n",
        "  if checkWords(line_1[indexWord]) == False:\n",
        "    print(line_1[indexWord],indexWord)"
      ],
      "execution_count": 0,
      "outputs": []
    },
    {
      "cell_type": "code",
      "metadata": {
        "id": "ZsH8rAHzhaOC",
        "colab_type": "code",
        "colab": {}
      },
      "source": [
        "checkWords(\"im8\")"
      ],
      "execution_count": 0,
      "outputs": []
    }
  ]
}